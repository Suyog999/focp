{
 "cells": [
  {
   "cell_type": "markdown",
   "id": "976f538a",
   "metadata": {},
   "source": [
    "Task"
   ]
  },
  {
   "cell_type": "code",
   "execution_count": 2,
   "id": "d337b561",
   "metadata": {},
   "outputs": [
    {
     "data": {
      "text/plain": [
       "49.0"
      ]
     },
     "execution_count": 2,
     "metadata": {},
     "output_type": "execute_result"
    }
   ],
   "source": [
    "import math\n",
    "math.sqrt(2401)\n"
   ]
  },
  {
   "cell_type": "markdown",
   "id": "12cbcb02",
   "metadata": {},
   "source": [
    "Task"
   ]
  },
  {
   "cell_type": "code",
   "execution_count": 3,
   "id": "3f3dc63a",
   "metadata": {},
   "outputs": [
    {
     "data": {
      "text/plain": [
       "10.0"
      ]
     },
     "execution_count": 3,
     "metadata": {},
     "output_type": "execute_result"
    }
   ],
   "source": [
    "from math import log2\n",
    "log2(1024)"
   ]
  },
  {
   "cell_type": "markdown",
   "id": "55066252",
   "metadata": {},
   "source": [
    "Task"
   ]
  },
  {
   "cell_type": "code",
   "execution_count": 4,
   "id": "28369c46",
   "metadata": {},
   "outputs": [
    {
     "name": "stdout",
     "output_type": "stream",
     "text": [
      "hi\n",
      "hi\n"
     ]
    }
   ],
   "source": [
    "def displayTwice(msg):\n",
    "    print(msg)\n",
    "    print(msg)\n",
    "displayTwice(\"hi\")"
   ]
  },
  {
   "cell_type": "markdown",
   "id": "b8a5d35c",
   "metadata": {},
   "source": [
    "Task"
   ]
  },
  {
   "cell_type": "code",
   "execution_count": 5,
   "id": "27640985",
   "metadata": {},
   "outputs": [
    {
     "name": "stdout",
     "output_type": "stream",
     "text": [
      "Help on function displayTwice in module __main__:\n",
      "\n",
      "displayTwice(msg)\n",
      "    This function prints the given parameter two times.\n",
      "\n"
     ]
    }
   ],
   "source": [
    "def displayTwice(msg):\n",
    "    \"\"\"This function prints the given parameter two times.\"\"\"\n",
    "    print(msg)\n",
    "    print(msg)\n",
    "help(displayTwice)"
   ]
  },
  {
   "cell_type": "markdown",
   "id": "661da029",
   "metadata": {},
   "source": [
    "Task"
   ]
  },
  {
   "cell_type": "code",
   "execution_count": 7,
   "id": "5e9c1dad",
   "metadata": {},
   "outputs": [
    {
     "data": {
      "text/plain": [
       "20"
      ]
     },
     "execution_count": 7,
     "metadata": {},
     "output_type": "execute_result"
    }
   ],
   "source": [
    "def findMax(a,b):\n",
    "    \"\"\"Finds the maximum of two values.\"\"\"\n",
    "    if ( a > b ):\n",
    "        max = a\n",
    "    else:\n",
    "        max = b\n",
    "    return max\n",
    "findMax(10,20)"
   ]
  },
  {
   "cell_type": "markdown",
   "id": "0e25b651",
   "metadata": {},
   "source": [
    "Task"
   ]
  },
  {
   "cell_type": "code",
   "execution_count": 12,
   "id": "8fa3d70f",
   "metadata": {},
   "outputs": [
    {
     "name": "stdout",
     "output_type": "stream",
     "text": [
      "The multiplication of 2 and 5 is: 10\n",
      "The multiplication of 2 and 2 is: 4\n"
     ]
    }
   ],
   "source": [
    "def multi(a,b=0):\n",
    "    \"\"\"This function multiplies two given number and if only one parameter is given than it multiplies with itself\"\"\"\n",
    "    if b!=0:\n",
    "        print(\"The multiplication of\",a,\"and\",b,\"is:\",a*b)\n",
    "    else:\n",
    "        b=a\n",
    "        print(\"The multiplication of\",a,\"and\",b,\"is:\",a*b)\n",
    "multi(2,5)\n",
    "multi(2)"
   ]
  },
  {
   "cell_type": "markdown",
   "id": "d39ce1c0",
   "metadata": {},
   "source": [
    "Task"
   ]
  },
  {
   "cell_type": "code",
   "execution_count": 18,
   "id": "123d1a16",
   "metadata": {},
   "outputs": [
    {
     "name": "stderr",
     "output_type": "stream",
     "text": [
      "<>:3: SyntaxWarning: \"is\" with a literal. Did you mean \"==\"?\n",
      "<>:4: SyntaxWarning: \"is\" with a literal. Did you mean \"==\"?\n",
      "<>:5: SyntaxWarning: \"is\" with a literal. Did you mean \"==\"?\n",
      "<>:3: SyntaxWarning: \"is\" with a literal. Did you mean \"==\"?\n",
      "<>:4: SyntaxWarning: \"is\" with a literal. Did you mean \"==\"?\n",
      "<>:5: SyntaxWarning: \"is\" with a literal. Did you mean \"==\"?\n",
      "C:\\Users\\Acer\\AppData\\Local\\Temp\\ipykernel_1748\\2155675257.py:3: SyntaxWarning: \"is\" with a literal. Did you mean \"==\"?\n",
      "  y is 2\n",
      "C:\\Users\\Acer\\AppData\\Local\\Temp\\ipykernel_1748\\2155675257.py:4: SyntaxWarning: \"is\" with a literal. Did you mean \"==\"?\n",
      "  z is 3\n",
      "C:\\Users\\Acer\\AppData\\Local\\Temp\\ipykernel_1748\\2155675257.py:5: SyntaxWarning: \"is\" with a literal. Did you mean \"==\"?\n",
      "  x is 1\n"
     ]
    }
   ],
   "source": [
    "def someFunc(y=2, z=3, x=1):\n",
    "\n",
    "    y is 2\n",
    "    z is 3\n",
    "    x is 1\n",
    "someFunc()"
   ]
  },
  {
   "cell_type": "markdown",
   "id": "b9d73e99",
   "metadata": {},
   "source": [
    "Task"
   ]
  },
  {
   "cell_type": "code",
   "execution_count": 19,
   "id": "103c4ead",
   "metadata": {},
   "outputs": [
    {
     "name": "stdout",
     "output_type": "stream",
     "text": [
      "suyog\n"
     ]
    }
   ],
   "source": [
    "print('s','u','y','o','g', sep='')"
   ]
  },
  {
   "cell_type": "markdown",
   "id": "638f7c3d",
   "metadata": {},
   "source": [
    "Task"
   ]
  },
  {
   "cell_type": "code",
   "execution_count": 20,
   "id": "eb02dd88",
   "metadata": {},
   "outputs": [
    {
     "data": {
      "text/plain": [
       "2.5"
      ]
     },
     "execution_count": 20,
     "metadata": {},
     "output_type": "execute_result"
    }
   ],
   "source": [
    "def calcAve(*numbers):\n",
    "    total = 0\n",
    "    for num in numbers:\n",
    "        total += num\n",
    "    return total/len(numbers)\n",
    "calcAve(1,2,3,4)"
   ]
  },
  {
   "cell_type": "markdown",
   "id": "bd95102b",
   "metadata": {},
   "source": [
    "Task"
   ]
  },
  {
   "cell_type": "code",
   "execution_count": 21,
   "id": "9e97c7a3",
   "metadata": {},
   "outputs": [
    {
     "data": {
      "text/plain": [
       "function"
      ]
     },
     "execution_count": 21,
     "metadata": {},
     "output_type": "execute_result"
    }
   ],
   "source": [
    "hypot = lambda a,b : math.sqrt(a * a + b * b)\n",
    "type(hypot)"
   ]
  },
  {
   "cell_type": "markdown",
   "id": "b222e2c8",
   "metadata": {},
   "source": [
    "Task"
   ]
  },
  {
   "cell_type": "code",
   "execution_count": 25,
   "id": "824833dc",
   "metadata": {},
   "outputs": [
    {
     "data": {
      "text/plain": [
       "7200"
      ]
     },
     "execution_count": 25,
     "metadata": {},
     "output_type": "execute_result"
    }
   ],
   "source": [
    "to_seconds=lambda a,b : a*60*60+b*60\n",
    "to_seconds(0,2)\n",
    "to_seconds(2,0)"
   ]
  },
  {
   "cell_type": "markdown",
   "id": "4361d80c",
   "metadata": {},
   "source": [
    "Task:"
   ]
  },
  {
   "cell_type": "code",
   "execution_count": 27,
   "id": "5eb0a7cf",
   "metadata": {},
   "outputs": [
    {
     "data": {
      "text/plain": [
       "3720"
      ]
     },
     "execution_count": 27,
     "metadata": {},
     "output_type": "execute_result"
    }
   ],
   "source": [
    "to_seconds=lambda a,b=0 : a*60*60+b*60\n",
    "to_seconds(1,2)"
   ]
  },
  {
   "cell_type": "code",
   "execution_count": null,
   "id": "d414f4d0",
   "metadata": {},
   "outputs": [],
   "source": []
  }
 ],
 "metadata": {
  "kernelspec": {
   "display_name": "Python 3 (ipykernel)",
   "language": "python",
   "name": "python3"
  },
  "language_info": {
   "codemirror_mode": {
    "name": "ipython",
    "version": 3
   },
   "file_extension": ".py",
   "mimetype": "text/x-python",
   "name": "python",
   "nbconvert_exporter": "python",
   "pygments_lexer": "ipython3",
   "version": "3.9.13"
  }
 },
 "nbformat": 4,
 "nbformat_minor": 5
}
