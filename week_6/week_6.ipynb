{
 "cells": [
  {
   "cell_type": "markdown",
   "id": "a8112b49",
   "metadata": {},
   "source": [
    "Task:"
   ]
  },
  {
   "cell_type": "code",
   "execution_count": 1,
   "id": "09a8f222",
   "metadata": {},
   "outputs": [
    {
     "name": "stdout",
     "output_type": "stream",
     "text": [
      "2.0\n",
      "3.0\n",
      "4.0\n",
      "5.0\n"
     ]
    }
   ],
   "source": [
    "squares = [4, 9, 16, 25]\n",
    "for x in squares:\n",
    "    print(x**(1/2))"
   ]
  },
  {
   "cell_type": "markdown",
   "id": "1531bb48",
   "metadata": {},
   "source": [
    "Task:"
   ]
  },
  {
   "cell_type": "code",
   "execution_count": 1,
   "id": "97ad3178",
   "metadata": {},
   "outputs": [
    {
     "name": "stdout",
     "output_type": "stream",
     "text": [
      "[4, 9, 16, 25, 49, 64, 81]\n"
     ]
    }
   ],
   "source": [
    "squares = [4, 9, 16, 25]\n",
    "squares.extend((49,64,81))\n",
    "print(squares)"
   ]
  },
  {
   "cell_type": "markdown",
   "id": "8ea160b0",
   "metadata": {},
   "source": [
    "Task:"
   ]
  },
  {
   "cell_type": "code",
   "execution_count": 4,
   "id": "d7d7348f",
   "metadata": {},
   "outputs": [
    {
     "name": "stdout",
     "output_type": "stream",
     "text": [
      "[4, 9, 16, 25, 49, 64, 81, 121, 144, 169]\n"
     ]
    }
   ],
   "source": [
    "squares.extend((121,144,169))\n",
    "print(squares)"
   ]
  },
  {
   "cell_type": "markdown",
   "id": "3a392112",
   "metadata": {},
   "source": [
    "Task:"
   ]
  },
  {
   "cell_type": "code",
   "execution_count": 3,
   "id": "4aacb765",
   "metadata": {},
   "outputs": [
    {
     "name": "stdout",
     "output_type": "stream",
     "text": [
      "[2, 4, 9, 16, 25, 49, 64, 81]\n"
     ]
    }
   ],
   "source": [
    "squares.insert(0,2)\n",
    "print(squares)"
   ]
  },
  {
   "cell_type": "markdown",
   "id": "11146c76",
   "metadata": {},
   "source": [
    "Task:"
   ]
  },
  {
   "cell_type": "code",
   "execution_count": 4,
   "id": "ae8be5de",
   "metadata": {},
   "outputs": [
    {
     "name": "stdout",
     "output_type": "stream",
     "text": [
      "[2, 4, 9, 16, 25, 64, 81]\n"
     ]
    }
   ],
   "source": [
    "squares.remove(49)\n",
    "print(squares)"
   ]
  },
  {
   "cell_type": "markdown",
   "id": "c3f07127",
   "metadata": {},
   "source": [
    "Task:"
   ]
  },
  {
   "cell_type": "code",
   "execution_count": 5,
   "id": "54557249",
   "metadata": {},
   "outputs": [
    {
     "ename": "ValueError",
     "evalue": "list.remove(x): x not in list",
     "output_type": "error",
     "traceback": [
      "\u001b[1;31m---------------------------------------------------------------------------\u001b[0m",
      "\u001b[1;31mValueError\u001b[0m                                Traceback (most recent call last)",
      "\u001b[1;32m~\\AppData\\Local\\Temp\\ipykernel_1016\\3647903198.py\u001b[0m in \u001b[0;36m<module>\u001b[1;34m\u001b[0m\n\u001b[1;32m----> 1\u001b[1;33m \u001b[0msquares\u001b[0m\u001b[1;33m.\u001b[0m\u001b[0mremove\u001b[0m\u001b[1;33m(\u001b[0m\u001b[1;36m3\u001b[0m\u001b[1;33m)\u001b[0m\u001b[1;33m\u001b[0m\u001b[1;33m\u001b[0m\u001b[0m\n\u001b[0m",
      "\u001b[1;31mValueError\u001b[0m: list.remove(x): x not in list"
     ]
    }
   ],
   "source": [
    "squares.remove(3)"
   ]
  },
  {
   "cell_type": "markdown",
   "id": "ea3741d0",
   "metadata": {},
   "source": [
    "Task:"
   ]
  },
  {
   "cell_type": "code",
   "execution_count": 6,
   "id": "c37c07f4",
   "metadata": {},
   "outputs": [
    {
     "name": "stdout",
     "output_type": "stream",
     "text": [
      "[1, 3, 1, 2]\n"
     ]
    }
   ],
   "source": [
    "List=[1, 2, 3, 1, 2] \n",
    "List.remove(2)\n",
    "print(List)"
   ]
  },
  {
   "cell_type": "markdown",
   "id": "19a135ab",
   "metadata": {},
   "source": [
    "Task:"
   ]
  },
  {
   "cell_type": "code",
   "execution_count": 8,
   "id": "ecebf7ec",
   "metadata": {},
   "outputs": [
    {
     "data": {
      "text/plain": [
       "4"
      ]
     },
     "execution_count": 8,
     "metadata": {},
     "output_type": "execute_result"
    }
   ],
   "source": [
    "squares.pop(1)\n"
   ]
  },
  {
   "cell_type": "markdown",
   "id": "d94dd82f",
   "metadata": {},
   "source": [
    "Task:"
   ]
  },
  {
   "cell_type": "code",
   "execution_count": 13,
   "id": "c235eb28",
   "metadata": {},
   "outputs": [
    {
     "name": "stdout",
     "output_type": "stream",
     "text": [
      "['Eric', 'Sophie', 'anna', 'sam']\n"
     ]
    }
   ],
   "source": [
    "names = [ \"Eric\", \"anna\", \"Sophie\", \"sam\" ]\n",
    "names.sort()\n",
    "print(names)"
   ]
  },
  {
   "cell_type": "markdown",
   "id": "c6ac46fa",
   "metadata": {},
   "source": [
    "Task:"
   ]
  },
  {
   "cell_type": "code",
   "execution_count": 16,
   "id": "ffac0d0e",
   "metadata": {},
   "outputs": [
    {
     "ename": "NameError",
     "evalue": "name 'key' is not defined",
     "output_type": "error",
     "traceback": [
      "\u001b[1;31m---------------------------------------------------------------------------\u001b[0m",
      "\u001b[1;31mNameError\u001b[0m                                 Traceback (most recent call last)",
      "\u001b[1;32m~\\AppData\\Local\\Temp\\ipykernel_1016\\4069956787.py\u001b[0m in \u001b[0;36m<module>\u001b[1;34m\u001b[0m\n\u001b[1;32m----> 1\u001b[1;33m help(list.sort(key)\n\u001b[0m\u001b[0;32m      2\u001b[0m     )\n",
      "\u001b[1;31mNameError\u001b[0m: name 'key' is not defined"
     ]
    }
   ],
   "source": [
    "help(list.sort)"
   ]
  },
  {
   "cell_type": "markdown",
   "id": "dad1c5a6",
   "metadata": {},
   "source": [
    "Task:"
   ]
  },
  {
   "cell_type": "code",
   "execution_count": null,
   "id": "0a7a4137",
   "metadata": {},
   "outputs": [],
   "source": []
  },
  {
   "cell_type": "markdown",
   "id": "5ecd0f13",
   "metadata": {},
   "source": [
    "Task:"
   ]
  },
  {
   "cell_type": "code",
   "execution_count": 3,
   "id": "f8c3b98e",
   "metadata": {},
   "outputs": [
    {
     "name": "stdout",
     "output_type": "stream",
     "text": [
      "[81, 64, 49, 25, 16, 9, 4]\n"
     ]
    }
   ],
   "source": [
    "squares.reverse()\n",
    "print(squares)"
   ]
  },
  {
   "cell_type": "markdown",
   "id": "55b62352",
   "metadata": {},
   "source": [
    "Task:"
   ]
  },
  {
   "cell_type": "code",
   "execution_count": 4,
   "id": "57cde1c9",
   "metadata": {},
   "outputs": [
    {
     "data": {
      "text/plain": [
       "3"
      ]
     },
     "execution_count": 4,
     "metadata": {},
     "output_type": "execute_result"
    }
   ],
   "source": [
    "colours = [\"red\", \"green\", \"yellow\", \"blue\", \"red\"]\n",
    "colours.index('blue')"
   ]
  },
  {
   "cell_type": "markdown",
   "id": "0bcb30bd",
   "metadata": {},
   "source": [
    "Task:"
   ]
  },
  {
   "cell_type": "code",
   "execution_count": 5,
   "id": "0ab4d0e0",
   "metadata": {},
   "outputs": [
    {
     "name": "stdout",
     "output_type": "stream",
     "text": [
      "['red', 'green', 'yellow', 'blue', 'red']\n",
      "['red', 'green', 'violet', 'blue', 'red']\n"
     ]
    }
   ],
   "source": [
    "new_colours = colours.copy()\n",
    "colours[2]=\"violet\"\n",
    "print(new_colours)\n",
    "print(colours)"
   ]
  },
  {
   "cell_type": "markdown",
   "id": "df5e3378",
   "metadata": {},
   "source": [
    "Task:"
   ]
  },
  {
   "cell_type": "code",
   "execution_count": 7,
   "id": "d20ee047",
   "metadata": {},
   "outputs": [
    {
     "name": "stdout",
     "output_type": "stream",
     "text": [
      "[8, 27, 64, 125, 216, 343, 512, 729, 1000, 1331, 1728, 2197, 2744, 3375, 4096, 4913, 5832, 6859, 8000]\n"
     ]
    }
   ],
   "source": [
    "cubes=[x**3 for x in range(2,21)]\n",
    "print(cubes)"
   ]
  },
  {
   "cell_type": "markdown",
   "id": "1366d50f",
   "metadata": {},
   "source": [
    "Task:"
   ]
  },
  {
   "cell_type": "code",
   "execution_count": 10,
   "id": "4b9b85cf",
   "metadata": {},
   "outputs": [],
   "source": [
    "address=(\"kapan\",21,2345)"
   ]
  },
  {
   "cell_type": "markdown",
   "id": "a6c6959f",
   "metadata": {},
   "source": [
    "Task:"
   ]
  },
  {
   "cell_type": "code",
   "execution_count": 8,
   "id": "9409adac",
   "metadata": {},
   "outputs": [
    {
     "data": {
      "text/plain": [
       "tuple"
      ]
     },
     "execution_count": 8,
     "metadata": {},
     "output_type": "execute_result"
    }
   ],
   "source": [
    "name=(\"suyog\",)\n",
    "type(name)"
   ]
  },
  {
   "cell_type": "code",
   "execution_count": null,
   "id": "29f03478",
   "metadata": {},
   "outputs": [],
   "source": [
    "Task:"
   ]
  },
  {
   "cell_type": "code",
   "execution_count": 11,
   "id": "1d25aba9",
   "metadata": {},
   "outputs": [],
   "source": [
    "house_num, street,postcode=address \n"
   ]
  },
  {
   "cell_type": "code",
   "execution_count": null,
   "id": "20ddb27f",
   "metadata": {},
   "outputs": [],
   "source": [
    "Task:"
   ]
  },
  {
   "cell_type": "code",
   "execution_count": 16,
   "id": "b0f836ff",
   "metadata": {},
   "outputs": [
    {
     "name": "stdout",
     "output_type": "stream",
     "text": [
      "kapan\n",
      "21\n",
      "2345\n"
     ]
    }
   ],
   "source": [
    "def content(tup):\n",
    "    for i in tup:\n",
    "        print(i)\n",
    "content(address)"
   ]
  }
 ],
 "metadata": {
  "kernelspec": {
   "display_name": "Python 3 (ipykernel)",
   "language": "python",
   "name": "python3"
  },
  "language_info": {
   "codemirror_mode": {
    "name": "ipython",
    "version": 3
   },
   "file_extension": ".py",
   "mimetype": "text/x-python",
   "name": "python",
   "nbconvert_exporter": "python",
   "pygments_lexer": "ipython3",
   "version": "3.9.13"
  }
 },
 "nbformat": 4,
 "nbformat_minor": 5
}
